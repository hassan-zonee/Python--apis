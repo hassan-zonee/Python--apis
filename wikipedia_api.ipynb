{
 "cells": [
  {
   "cell_type": "markdown",
   "metadata": {},
   "source": [
    "**wikipedia api**\n",
    "- searches for given page on wikipedia\n",
    "- extract all the text and store in .txt file for several unsupervised NLP tasks e.g., Topic Modeling"
   ]
  },
  {
   "cell_type": "code",
   "execution_count": 33,
   "metadata": {},
   "outputs": [
    {
     "name": "stdout",
     "output_type": "stream",
     "text": [
      "Requirement already satisfied: wikipedia-api in c:\\users\\dell\\desktop\\projects\\python--apis\\env\\lib\\site-packages (0.8.1)\n",
      "Requirement already satisfied: requests in c:\\users\\dell\\desktop\\projects\\python--apis\\env\\lib\\site-packages (from wikipedia-api) (2.32.3)\n",
      "Requirement already satisfied: charset-normalizer<4,>=2 in c:\\users\\dell\\desktop\\projects\\python--apis\\env\\lib\\site-packages (from requests->wikipedia-api) (3.4.1)\n",
      "Requirement already satisfied: idna<4,>=2.5 in c:\\users\\dell\\desktop\\projects\\python--apis\\env\\lib\\site-packages (from requests->wikipedia-api) (3.10)\n",
      "Requirement already satisfied: urllib3<3,>=1.21.1 in c:\\users\\dell\\desktop\\projects\\python--apis\\env\\lib\\site-packages (from requests->wikipedia-api) (2.3.0)\n",
      "Requirement already satisfied: certifi>=2017.4.17 in c:\\users\\dell\\desktop\\projects\\python--apis\\env\\lib\\site-packages (from requests->wikipedia-api) (2025.1.31)\n"
     ]
    }
   ],
   "source": [
    "!pip install wikipedia-api"
   ]
  },
  {
   "cell_type": "code",
   "execution_count": 35,
   "metadata": {},
   "outputs": [],
   "source": [
    "import wikipediaapi"
   ]
  },
  {
   "cell_type": "code",
   "execution_count": 45,
   "metadata": {},
   "outputs": [],
   "source": [
    "def get_wikipedia_text(topic):\n",
    "    user_agent = 'TestingWikipediaAPI/1.0 (testingwiki@outlook.com)'\n",
    "    wiki = wikipediaapi.Wikipedia(user_agent=user_agent, language='en')\n",
    "    page = wiki.page(topic)\n",
    "\n",
    "    if not page.exists():\n",
    "        print(f\"Page '{topic}' does not exist.\")\n",
    "        return None\n",
    "    \n",
    "    with open(topic+'.txt', 'w', encoding='utf-8') as file:\n",
    "        file.write(page.text)\n",
    "\n",
    "    return page.text\n"
   ]
  },
  {
   "cell_type": "code",
   "execution_count": 56,
   "metadata": {},
   "outputs": [
    {
     "name": "stdout",
     "output_type": "stream",
     "text": [
      "total_character => 5945\n",
      "total_words => 936\n",
      "David Goggins (born February 17, 1975) is an American motivational speaker, author, and retired United States Navy SEAL. He is also an ultramarathon runner, ultra-distance cyclist, triathlete, public speaker and the author of two memoirs, and was inducted into the International Sports Hall of Fame for his achievements in sports. Goggins was also awarded the VFW Americanism award in 2018 for his service in the United States Armed Forces. Goggins also published a New York Times Best Seller book titled Can't Hurt Me: Master Your Mind and Defy the Odds.\n",
      "\n",
      "Early life and education\n",
      "Goggins was born on February 17, 1975, to Trunnis and Jackie Goggins. In 1981, he lived in Williamsville, New York, on a street called Paradise Road with his parents and brother, Trunnis Jr. While Goggins' neighborhood held \"model citizens consisting of white people,\" he describes his home experience as \"hell on Earth.\" Goggins' father owned the roller-skating rink Skateland, located in East Buffalo, New York. At age six, Goggins often worked the night shift at Skateland alongside his family, organizing roller skates.\n",
      "Goggins' mother left his father due to abuse and eventually moved herself and her sons to live with Goggins' grandparents in Brazil, Indiana.\n",
      "Goggins enrolled in second grade at a small Catholic school and made First Communion. His brother, Trunnis Jr., returned to Buffalo to live with their father. When Goggins enrolled in the third grade, he was diagnosed with a learning disability due to the lack of schooling. Goggins also found it difficult to learn as he was suffering from toxic stress because of the child abuse that he suffered during his early years in Buffalo, New York. Due to the stress, Goggins developed a stutter. He explains how he was constantly in a fight-or-flight response with social anxiety because of his stuttering. In school, Goggins was subjected to racism and the Ku Klux Klan held a local presence at the time in Brazil, Indiana. Goggins recalls he once found \"Niger  [sic] we're gonna kill you\" on his Spanish notebook. When Goggins was 16, a student spray painted \"nigger\" on the door of his car.\n",
      "Before his freshman year, Goggins attended a pararescue jump orientation course. Goggins' grandfather had served in the Air Force before him and prompted him to attend.\n",
      "\n",
      "Career\n",
      "Goggins applied to join the United States Air Force Pararescue and was accepted into training. During the training, he was diagnosed with sickle cell trait and was removed from training temporarily. Goggins instead participated in United States Air Force Tactical Air Control Party (TACP) training and worked as a TACP from 1994 until 1999 alongside British counterparts FS Jones, FS Nair and Pte Noble, when he left the United States Air Force.\n",
      "Goggins later quit an exterminator job to become a Navy SEAL. He joined the reserves, eventually making the weight requirements to begin training as a SEAL after losing 106 pounds (48 kg) in three months. Goggins graduated from BUD/S training with BUD/S class 235 in 2001. Following SEAL Qualification Training (SQT) and the completion of a probationary period, he received the NEC 5326 as a Combatant Swimmer (SEAL) and was assigned to SEAL Team 5. During his 20-year military career, Goggins served tours in Iraq and Afghanistan. In 2004, he graduated from Army Ranger School and earned the \"Enlisted Honor Man\" award, receiving a 100% peer evaluation.\n",
      "\n",
      "Charity\n",
      "After several of his military friends died in Afghanistan in a 2005 helicopter crash during Operation Red Wings, Goggins began long-distance running to raise money for the Special Operations Warrior Foundation, which gives college scholarships and grants to the children of fallen special operations soldiers. Competing in endurance challenges, including the Badwater Ultramarathon three times, Goggins raised more than US$2 million for the Special Operations Warrior Foundation.\n",
      "\n",
      "Marathon and ultramarathon running\n",
      "In 2005, Goggins entered the San Diego One Day, a 24-hour ultramarathon in San Diego. He then completed the Las Vegas Marathon in a time to qualify for the Boston Marathon. In 2006, Goggins entered the HURT 100 in Hawaii. He was invited to the 2006 Badwater-135, where he finished 5th overall.\n",
      "In 2006, Goggins competed in the Ultraman World Championships Triathlon in Hawaii, placing second in the three-day, 320-mile race. He also participated in the Furnace Creek-508 (2009).\n",
      "In 2007, Goggins placed third overall in the Badwater-135. He competed in the Badwater-135 in 2013 and finished 18th, after a break from the event since 2008.\n",
      "In 2008, Goggins was named a \"Hero of Running\" by Runner's World. In 2016, he won the Infinitus 88k in 12 hours. That same year, Goggins won the Music City Ultra 50k, and Strolling Jim 40 Miler. In 2020, he ran the Moab 240 ultramarathon, placing 2nd in the 241-mile event with a time of 63 hours and 21 minutes, approximately 95 minutes behind race winner Michele Graglia.\n",
      "Entrepreneur Jesse Itzler, upon seeing Goggins perform at a 24-hour ultramarathon, hired Goggins to live with him in his house for a month. Itzler wrote about his experience on a blog and later published the story as a book called Living With A SEAL.\n",
      "Goggins' memoir, Can't Hurt Me: Master Your Mind and Defy the Odds, was released on December 4, 2018. In the book, he refers to The 40% Rule, his belief that most people, even with considerable effort, only tap into 40% of their capabilities. A follow-up sequel titled Never Finished: Unshackle Your Mind and Win the War Within was published on December 4, 2022.\n",
      "\n",
      "Awards and decorations\n",
      "Bibliography\n",
      "Goggins, David (2018). Can't Hurt Me: Master Your Mind and Defy the Odds. Lioncrest Publishing. ISBN 978-1-5445-1228-0.\n",
      "Goggins, David (2022). Never Finished: Unshackle Your Mind and Win the War Within. Lioncrest Publishing. ISBN 978-1544536828.\n",
      "\n",
      "References\n",
      "External links\n",
      "\n",
      "Goggins's International Trailrunning Association (ITRA) Race Results\n"
     ]
    }
   ],
   "source": [
    "topic = \"david goggins\"\n",
    "text = get_wikipedia_text(topic)\n",
    "print('total_character =>', len(text))\n",
    "print(('total_words =>'), len(text.split(' ')))\n",
    "print(text)"
   ]
  }
 ],
 "metadata": {
  "kernelspec": {
   "display_name": "env",
   "language": "python",
   "name": "env"
  },
  "language_info": {
   "codemirror_mode": {
    "name": "ipython",
    "version": 3
   },
   "file_extension": ".py",
   "mimetype": "text/x-python",
   "name": "python",
   "nbconvert_exporter": "python",
   "pygments_lexer": "ipython3",
   "version": "3.12.4"
  }
 },
 "nbformat": 4,
 "nbformat_minor": 2
}
