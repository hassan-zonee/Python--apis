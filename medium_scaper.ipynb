{
 "cells": [
  {
   "cell_type": "markdown",
   "metadata": {},
   "source": [
    "https://colab.research.google.com/drive/1K-BveF4ck5MEBEJSchWSAES5w_F7tqCH#scrollTo=EHISTc0kay9C\n",
    "\n",
    "# **Medium Scraper using BeautifulSoup**\n",
    "- scrapes text from any medium article\n",
    "- stores in a .txt file that can be used later\n",
    "\n",
    "**Libraries Used**  \n",
    "**requests** for making HTTP requests to fetch web pages  \n",
    "**BeautifulSoup** for parsing HTML content  \n",
    "**re (Regular Expression)** for removing special characters from title so it can be used as file name  "
   ]
  },
  {
   "cell_type": "code",
   "execution_count": 3,
   "metadata": {},
   "outputs": [
    {
     "name": "stdout",
     "output_type": "stream",
     "text": [
      "Requirement already satisfied: BeautifulSoup4 in c:\\users\\dell\\desktop\\projects\\nlp--course-work-assessment-2\\env\\lib\\site-packages (4.13.3)\n",
      "Requirement already satisfied: soupsieve>1.2 in c:\\users\\dell\\desktop\\projects\\nlp--course-work-assessment-2\\env\\lib\\site-packages (from BeautifulSoup4) (2.6)\n",
      "Requirement already satisfied: typing-extensions>=4.0.0 in c:\\users\\dell\\desktop\\projects\\nlp--course-work-assessment-2\\env\\lib\\site-packages (from BeautifulSoup4) (4.12.2)\n"
     ]
    }
   ],
   "source": [
    "!pip install BeautifulSoup4"
   ]
  },
  {
   "cell_type": "code",
   "execution_count": 4,
   "metadata": {},
   "outputs": [],
   "source": [
    "import re\n",
    "import requests\n",
    "from bs4 import BeautifulSoup"
   ]
  },
  {
   "cell_type": "code",
   "execution_count": 5,
   "metadata": {},
   "outputs": [],
   "source": [
    "def scrape_medium(url):\n",
    "    response = requests.get(url)\n",
    "    if response.status_code == 200:\n",
    "        soup = BeautifulSoup(response.content, 'html.parser')\n",
    "        \n",
    "        title_tag = soup.find('h1')\n",
    "        article_content = soup.find('article')\n",
    "\n",
    "        if title_tag:\n",
    "            title = title_tag.get_text()\n",
    "        else:\n",
    "            title = \"Untitled\"\n",
    "        title = re.sub(r'[\\\\/*?:\"<>|!]', \"\", title)\n",
    "\n",
    "        if article_content:\n",
    "            text = article_content.get_text()\n",
    "            with open(title+'.txt', 'w', encoding='utf-8') as file:\n",
    "                file.write(text)\n",
    "            \n",
    "            return text\n",
    "    else:\n",
    "        return \"There is no such article... :(\""
   ]
  },
  {
   "cell_type": "code",
   "execution_count": 6,
   "metadata": {},
   "outputs": [
    {
     "name": "stdout",
     "output_type": "stream",
     "text": [
      "Total Characters => 22369\n",
      "Total Words => 3727\n",
      "Natural Language Processing is Fun!How computers understand Human LanguageAdam Geitgey·Follow17 min read·Jul 18, 2018--63ListenShareThis article is part of an on-going series on NLP: Part 1, Part 2, Part 3, Part 4, Part 5. You can also read a reader-translated version of this article in 普通话 or فارسی.Giant update: I’ve written a new book based on these articles! It not only expands and updates all my articles, but it has tons of brand new content and lots of hands-on coding projects. Check it out now!Computers are great at working with structured data like spreadsheets and database tables. But us humans usually communicate in words, not in tables. That’s unfortunate for computers.Unfortunately we don’t live in this alternate version of history where all data is structured.A lot of information in the world is unstructured — raw text in English or another human language. How can we get a computer to understand unstructured text and extract data from it?Natural Language Processing, or NLP, is the sub-field of AI that is focused on enabling computers to understand and process human languages. Let’s check out how NLP works and learn how to write programs that can extract information out of raw text using Python!Note: If you don’t care how NLP works and just want to cut and paste some code, skip way down to the section called “Coding the NLP Pipeline in Python”.Can Computers Understand Language?As long as computers have been around, programmers have been trying to write programs that understand languages like English. The reason is pretty obvious — humans have been writing things down for thousands of years and it would be really helpful if a computer could read and understand all that data.Computers can’t yet truly understand English in the way that humans do — but they can already do a lot! In certain limited areas, what you can do with NLP already seems like magic. You might be able to save a lot of time by applying NLP techniques to your own projects.And even better, the latest advances in NLP are easily accessible through open source Python libraries like spaCy, textacy, and neuralcoref. What you can do with just a few lines of python is amazing.Extracting Meaning from Text is HardThe process of reading and understanding English is very complex — and that’s not even considering that English doesn’t follow logical and consistent rules. For example, what does this news headline mean?“Environmental regulators grill business owner over illegal coal fires.”Are the regulators questioning a business owner about burning coal illegally? Or are the regulators literally cooking the business owner? As you can see, parsing English with a computer is going to be complicated.Doing anything complicated in machine learning usually means building a pipeline. The idea is to break up your problem into very small pieces and then use machine learning to solve each smaller piece separately. Then by chaining together several machine learning models that feed into each other, you can do very complicated things.And that’s exactly the strategy we are going to use for NLP. We’ll break down the process of understanding English into small chunks and see how each one works.Building an NLP Pipeline, Step-by-StepLet’s look at a piece of text from Wikipedia:London is the capital and most populous city of England and the United Kingdom. Standing on the River Thames in the south east of the island of Great Britain, London has been a major settlement for two millennia. It was founded by the Romans, who named it Londinium.(Source: Wikipedia article “London”)This paragraph contains several useful facts. It would be great if a computer could read this text and understand that London is a city, London is located in England, London was settled by Romans and so on. But to get there, we have to first teach our computer the most basic concepts of written language and then move up from there.Step 1: Sentence SegmentationThe first step in the pipeline is to break the text apart into separate sentences. That gives us this:“London is the capital and most populous city of England and the United Kingdom.”“Standing on the River Thames in the south east of the island of Great Britain, London has been a major settlement for two millennia.”“It was founded by the Romans, who named it Londinium.”We can assume that each sentence in English is a separate thought or idea. It will be a lot easier to write a program to understand a single sentence than to understand a whole paragraph.Coding a Sentence Segmentation model can be as simple as splitting apart sentences whenever you see a punctuation mark. But modern NLP pipelines often use more complex techniques that work even when a document isn’t formatted cleanly.Step 2: Word TokenizationNow that we’ve split our document into sentences, we can process them one at a time. Let’s start with the first sentence from our document:“London is the capital and most populous city of England and the United Kingdom.”The next step in our pipeline is to break this sentence into separate words or tokens. This is called tokenization. This is the result:“London”, “is”, “ the”, “capital”, “and”, “most”, “populous”, “city”, “of”, “England”, “and”, “the”, “United”, “Kingdom”, “.”Tokenization is easy to do in English. We’ll just split apart words whenever there’s a space between them. And we’ll also treat punctuation marks as separate tokens since punctuation also has meaning.Step 3: Predicting Parts of Speech for Each TokenNext, we’ll look at each token and try to guess its part of speech — whether it is a noun, a verb, an adjective and so on. Knowing the role of each word in the sentence will help us start to figure out what the sentence is talking about.We can do this by feeding each word (and some extra words around it for context) into a pre-trained part-of-speech classification model:The part-of-speech model was originally trained by feeding it millions of English sentences with each word’s part of speech already tagged and having it learn to replicate that behavior.Keep in mind that the model is completely based on statistics — it doesn’t actually understand what the words mean in the same way that humans do. It just knows how to guess a part of speech based on similar sentences and words it has seen before.After processing the whole sentence, we’ll have a result like this:With this information, we can already start to glean some very basic meaning. For example, we can see that the nouns in the sentence include “London” and “capital”, so the sentence is probably talking about London.Step 4: Text LemmatizationIn English (and most languages), words appear in different forms. Look at these two sentences:I had a pony.I had two ponies.Both sentences talk about the noun pony, but they are using different inflections. When working with text in a computer, it is helpful to know the base form of each word so that you know that both sentences are talking about the same concept. Otherwise the strings “pony” and “ponies” look like two totally different words to a computer.In NLP, we call finding this process lemmatization — figuring out the most basic form or lemma of each word in the sentence.The same thing applies to verbs. We can also lemmatize verbs by finding their root, unconjugated form. So “I had two ponies” becomes “I [have] two [pony].”Lemmatization is typically done by having a look-up table of the lemma forms of words based on their part of speech and possibly having some custom rules to handle words that you’ve never seen before.Here’s what our sentence looks like after lemmatization adds in the root form of our verb:The only change we made was turning “is” into “be”.Step 5: Identifying Stop WordsNext, we want to consider the importance of a each word in the sentence. English has a lot of filler words that appear very frequently like “and”, “the”, and “a”. When doing statistics on text, these words introduce a lot of noise since they appear way more frequently than other words. Some NLP pipelines will flag them as stop words —that is, words that you might want to filter out before doing any statistical analysis.Here’s how our sentence looks with the stop words grayed out:Stop words are usually identified by just by checking a hardcoded list of known stop words. But there’s no standard list of stop words that is appropriate for all applications. The list of words to ignore can vary depending on your application.For example if you are building a rock band search engine, you want to make sure you don’t ignore the word “The”. Because not only does the word “The” appear in a lot of band names, there’s a famous 1980’s rock band called The The!Step 6: Dependency ParsingThe next step is to figure out how all the words in our sentence relate to each other. This is called dependency parsing.The goal is to build a tree that assigns a single parent word to each word in the sentence. The root of the tree will be the main verb in the sentence. Here’s what the beginning of the parse tree will look like for our sentence:But we can go one step further. In addition to identifying the parent word of each word, we can also predict the type of relationship that exists between those two words:This parse tree shows us that the subject of the sentence is the noun “London” and it has a “be” relationship with “capital”. We finally know something useful — London is a capital! And if we followed the complete parse tree for the sentence (beyond what is shown), we would even found out that London is the capital of the United Kingdom.Just like how we predicted parts of speech earlier using a machine learning model, dependency parsing also works by feeding words into a machine learning model and outputting a result. But parsing word dependencies is particularly complex task and would require an entire article to explain in any detail. If you are curious how it works, a great place to start reading is Matthew Honnibal’s excellent article “Parsing English in 500 Lines \n"
     ]
    }
   ],
   "source": [
    "article_link = 'https://medium.com/@ageitgey/natural-language-processing-is-fun-9a0bff37854e'\n",
    "text = scrape_medium(article_link)\n",
    "print('Total Characters =>',len(text))\n",
    "print('Total Words =>', len(text.split(' ')))\n",
    "print(text[:10000])"
   ]
  }
 ],
 "metadata": {
  "kernelspec": {
   "display_name": "env",
   "language": "python",
   "name": "env"
  },
  "language_info": {
   "codemirror_mode": {
    "name": "ipython",
    "version": 3
   },
   "file_extension": ".py",
   "mimetype": "text/x-python",
   "name": "python",
   "nbconvert_exporter": "python",
   "pygments_lexer": "ipython3",
   "version": "3.12.4"
  }
 },
 "nbformat": 4,
 "nbformat_minor": 2
}
